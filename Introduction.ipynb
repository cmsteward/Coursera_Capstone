{
 "cells": [
  {
   "cell_type": "markdown",
   "metadata": {},
   "source": [
    "## An Evaluation of the Relationship to Dining Establishments and Emergency Incidents\n",
    "Clay M. Steward, in partial completion of the Applied Data Science Capstone project on Coursera"
   ]
  },
  {
   "cell_type": "markdown",
   "metadata": {},
   "source": [
    "# Introduction\n",
    "\n",
    "Elected officials, emergency services executives and managers, and the public continue to search for effective predictive models to identify the funding levels and assets needed to adequately respond to emergency incidents within their jurisdiction.   Predicting the call volume load of any emergency response system, police, fire, or emergency medical services, requires research past the typical historic incident response analysis.  Multiple data sources are available and may provide some insight into where, what type, when, and how frequent calls for emergency services may be expected.  Information such as census data, social media data, political data, or other data sets may provide beneficial.\n",
    "\n",
    "This course requires evaluation of information found on Foursquare.com utilizing an application programming interface (API) for successful completion.  To this end the information here is to attempt to evaluate any correlation between call volume, call type, call timing, and call frequency to businesses in the associated area. \n",
    "\n",
    "It is assumed that this evaluation will not in and of itself define any causal relationship between the business occupancies and demand for service, rather it is an investigation into whether there may be a correlation relationship, to help frame questions for future research into social issues with regards to predicting emergency response needs.   However, if causal relationships can be definitively identified that will be underscored within the findings and conclusion.\n",
    "\n",
    "\n"
   ]
  },
  {
   "cell_type": "code",
   "execution_count": null,
   "metadata": {},
   "outputs": [],
   "source": []
  }
 ],
 "metadata": {
  "kernelspec": {
   "display_name": "Python 3",
   "language": "python",
   "name": "python3"
  },
  "language_info": {
   "codemirror_mode": {
    "name": "ipython",
    "version": 3
   },
   "file_extension": ".py",
   "mimetype": "text/x-python",
   "name": "python",
   "nbconvert_exporter": "python",
   "pygments_lexer": "ipython3",
   "version": "3.7.4"
  }
 },
 "nbformat": 4,
 "nbformat_minor": 2
}
