{
 "cells": [
  {
   "cell_type": "markdown",
   "metadata": {},
   "source": [
    "## An Evaluation of the Relationship to Dining Establishments and Emergency Incidents\n",
    "Clay M. Steward, in partial completion of the Applied Data Science Capstone project on Coursera"
   ]
  },
  {
   "cell_type": "markdown",
   "metadata": {},
   "source": [
    "# Data\n",
    "Because of their open data sources, the study will center in the San Francisco area and utilize their pre-defined analysis neighborhoods.  Therefore, the data sets being captured will be the Analysis Neighborhoods dataset (https://data.sfgov.org/Geographic-Locations-and-Boundaries/Analysis-Neighborhoods/p5b7-5n3h), the Police Department Incident Reports, January 1, 2020 through December 31, 2020 (https://data.sfgov.org/Public-Safety/Police-Department-Incident-Reports-2018-to-Present/wg3w-h783 ), the Fire Department Calls for Service (https://data.sfgov.org/Public-Safety/Fire-Department-Calls-for-Service/nuek-vuh3 ) and Foursquare information about venues within these areas."
   ]
  },
  {
   "cell_type": "code",
   "execution_count": null,
   "metadata": {},
   "outputs": [],
   "source": []
  }
 ],
 "metadata": {
  "kernelspec": {
   "display_name": "Python 3",
   "language": "python",
   "name": "python3"
  },
  "language_info": {
   "codemirror_mode": {
    "name": "ipython",
    "version": 3
   },
   "file_extension": ".py",
   "mimetype": "text/x-python",
   "name": "python",
   "nbconvert_exporter": "python",
   "pygments_lexer": "ipython3",
   "version": "3.7.4"
  }
 },
 "nbformat": 4,
 "nbformat_minor": 2
}
