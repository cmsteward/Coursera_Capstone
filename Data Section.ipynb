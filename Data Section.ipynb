{
 "cells": [
  {
   "cell_type": "markdown",
   "metadata": {},
   "source": [
    "## An Evaluation of the Relationship to Dining Establishments and Emergency Incidents\n",
    "Clay M. Steward, in partial completion of the Applied Data Science Capstone project on Coursera"
   ]
  },
  {
   "cell_type": "markdown",
   "metadata": {},
   "source": [
    "# Data\n",
    "Because of their open data sources, the study will center in the San Francisco area and utilize their pre-defined analysis neighborhoods.  This will require four data sets to accomplish.\n",
    "The first two data sets are the fire and police incidents from January 1, 2020 through December 31, 2020.  These datasets have similar information and a few discrepancies.  The data pulled will be common to both data sets and are described below.\n",
    "\n",
    "|End Name\t           |Data Type\t |Fire Data*                               |Police Data          |\n",
    "|:---------------------|:------------|:----------------------------------------|:--------------------|\n",
    "|Incident Number       |String       |Incident Number                          |Incident ID          |\n",
    "|Incident DTTM         |Date/Time\t |Call Date\t                               |Incident Datetime    |\n",
    "|Incident Type         |String\t     |Call Type Group\t                       |Incident Description |\n",
    "|Incident Disposition  |String\t     |Call Final Disposition                   |Resolution           |\n",
    "|Neighborhood          |String\t     |Neighborhooods(sic)–Analysis Boundaries  |Analysis Neighborhood|\n",
    "|Geographic Location (Lat and Lon)   |Float\t     |Location\t                               |Point                |\n",
    "* Fire department data has multiple units for each incident, these will be culled to distinct incidents.\n",
    "\n",
    "The third data set is the exported GeoJSON file for the Analysis Neighborhoods.  This will be downloaded to the local dictionary and imported for visualizations in the Folium mapping dictionary.\n",
    "\n",
    "The final data set will be the venue data in Foursquare to fulfill the course requirement.  It is not clear yet whether the data point will be categories or some other type of information.  But whatever the information is it will have to be geocoded to allow for placement into the neighborhoods for analysis. "
   ]
  },
  {
   "cell_type": "code",
   "execution_count": null,
   "metadata": {},
   "outputs": [],
   "source": []
  }
 ],
 "metadata": {
  "kernelspec": {
   "display_name": "Python 3",
   "language": "python",
   "name": "python3"
  },
  "language_info": {
   "codemirror_mode": {
    "name": "ipython",
    "version": 3
   },
   "file_extension": ".py",
   "mimetype": "text/x-python",
   "name": "python",
   "nbconvert_exporter": "python",
   "pygments_lexer": "ipython3",
   "version": "3.7.4"
  }
 },
 "nbformat": 4,
 "nbformat_minor": 2
}
